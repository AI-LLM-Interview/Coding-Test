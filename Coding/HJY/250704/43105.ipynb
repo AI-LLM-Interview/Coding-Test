{
 "cells": [
  {
   "cell_type": "markdown",
   "id": "009f7cac",
   "metadata": {},
   "source": [
    "문제 설명\n",
    "\n",
    "https://school.programmers.co.kr/learn/courses/30/lessons/43105\n",
    "\n",
    "위와 같은 삼각형의 꼭대기에서 바닥까지 이어지는 경로 중, 거쳐간 숫자의 합이 가장 큰 경우를 찾아보려고 합니다. 아래 칸으로 이동할 때는 대각선 방향으로 한 칸 오른쪽 또는 왼쪽으로만 이동 가능합니다. 예를 들어 3에서는 그 아래칸의 8 또는 1로만 이동이 가능합니다.\n",
    "\n",
    "삼각형의 정보가 담긴 배열 triangle이 매개변수로 주어질 때, 거쳐간 숫자의 최댓값을 return 하도록 solution 함수를 완성하세요.\n",
    "\n",
    "제한사항\n",
    "\n",
    "삼각형의 높이는 1 이상 500 이하입니다.\n",
    "\n",
    "삼각형을 이루고 있는 숫자는 0 이상 9,999 이하의 정수입니다.\n",
    "\n",
    "입출력 예\n",
    "\n",
    "[[7], [3, 8], [8, 1, 0], [2, 7, 4, 4], [4, 5, 2, 6, 5]] => 30"
   ]
  },
  {
   "cell_type": "code",
   "execution_count": null,
   "id": "5be4b205",
   "metadata": {},
   "outputs": [],
   "source": [
    "def solution(triangle):\n",
    "    dp = [[0] * (len(triangle)+2) for _ in range(len(triangle))]\n",
    "    dp[0][0] = triangle[0][0]\n",
    "    \n",
    "    for i in range(1, len(triangle)):\n",
    "        for j in range(len(triangle[i])):\n",
    "            dp[i][j] = max(dp[i-1][j], dp[i-1][j-1]) + triangle[i][j]\n",
    "    return max(dp[-1])"
   ]
  }
 ],
 "metadata": {
  "language_info": {
   "name": "python"
  }
 },
 "nbformat": 4,
 "nbformat_minor": 5
}
