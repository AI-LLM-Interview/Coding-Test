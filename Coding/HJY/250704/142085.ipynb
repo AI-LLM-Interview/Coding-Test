{
 "cells": [
  {
   "cell_type": "code",
   "execution_count": null,
   "id": "3aace425",
   "metadata": {},
   "outputs": [],
   "source": [
    "def solution(n, k, enemy):\n",
    "    size = len(enemy)\n",
    "    if size <= k:\n",
    "        return size\n",
    "    sorted_idxs = sorted(range(size), key=lambda i: enemy[i],reverse=True)[:k]\n",
    "    for i in sorted_idxs:\n",
    "        enemy[i] = 0\n",
    "    for i in range(size):\n",
    "        if (0 < k and enemy[i] == 0) or (0 < k and n < enemy[i]):\n",
    "            k -= 1\n",
    "        elif n != 0 and enemy[i] <= n:\n",
    "            n -= enemy[i]\n",
    "        else:\n",
    "            return i\n",
    "    return size\n",
    "# 입력값 〉\t4, 1, [1, 3, 1, 1, 1, 99, 98, 97]\n",
    "# 기댓값 〉\t5\n",
    "# 실행 결과 〉\t실행한 결괏값 3이 기댓값 5과 다릅니다."
   ]
  },
  {
   "cell_type": "code",
   "execution_count": null,
   "id": "ee339295",
   "metadata": {},
   "outputs": [],
   "source": [
    "def solution(n, k, enemy):\n",
    "    size = len(enemy)\n",
    "    answer = []\n",
    "    if size <= k:\n",
    "        return size\n",
    "    for i in range(k, size+1):\n",
    "        arr = sorted(enemy[:i])\n",
    "        if n < sum(arr):\n",
    "            for _ in range(k):\n",
    "                if 0 < len(arr):\n",
    "                    arr.pop()\n",
    "        if sum(arr) <= n:\n",
    "            answer.append(i)\n",
    "    return answer[-1]\n",
    "# 시간초과 => 슬라이싱과 정렬, sum 부분 "
   ]
  },
  {
   "cell_type": "code",
   "execution_count": 3,
   "id": "8d21409c",
   "metadata": {},
   "outputs": [],
   "source": [
    "import heapq\n",
    "\n",
    "def solution(n, k, enemy):\n",
    "    size = len(enemy)\n",
    "    answer = 0\n",
    "    if size <= k:\n",
    "        return size\n",
    "    arr = []\n",
    "    heapq.heapify(arr)\n",
    "    for i in range(k):\n",
    "        heapq.heappush(arr, enemy[i])\n",
    "    _sum = sum(arr)\n",
    "    for i in range(k, size):\n",
    "        temp = 0\n",
    "        heapq.heappush(arr, enemy[i])\n",
    "        _sum += enemy[i]\n",
    "        if n < _sum:\n",
    "            temp = sum(heapq.nlargest(k, arr))\n",
    "        if _sum - temp <= n:\n",
    "            answer = i+1\n",
    "        else:\n",
    "            break\n",
    "    return answer"
   ]
  },
  {
   "cell_type": "code",
   "execution_count": null,
   "id": "6b461ef4",
   "metadata": {},
   "outputs": [],
   "source": []
  }
 ],
 "metadata": {
  "kernelspec": {
   "display_name": "base",
   "language": "python",
   "name": "python3"
  },
  "language_info": {
   "codemirror_mode": {
    "name": "ipython",
    "version": 3
   },
   "file_extension": ".py",
   "mimetype": "text/x-python",
   "name": "python",
   "nbconvert_exporter": "python",
   "pygments_lexer": "ipython3",
   "version": "3.12.2"
  }
 },
 "nbformat": 4,
 "nbformat_minor": 5
}
