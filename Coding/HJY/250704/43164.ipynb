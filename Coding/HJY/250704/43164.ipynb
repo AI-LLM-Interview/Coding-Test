{
 "cells": [
  {
   "cell_type": "code",
   "execution_count": null,
   "id": "373b8526",
   "metadata": {},
   "outputs": [],
   "source": [
    "answer = []\n",
    "\n",
    "def solution(tickets):\n",
    "    dfs(tickets, [False]*len(tickets), [\"ICN\"])\n",
    "    global answer\n",
    "    return sorted(answer)[0]\n",
    "\n",
    "def dfs(tickets, visited, route):\n",
    "    global answer\n",
    "    if visited.count(False) == 0:\n",
    "        answer.append(route)\n",
    "        return\n",
    "    for i in range(len(tickets)):\n",
    "        if not visited[i] and tickets[i][0] == route[-1]:\n",
    "            v1sited = visited[:]\n",
    "            v1sited[i] = True\n",
    "            dfs(tickets, v1sited, route + [tickets[i][1]])"
   ]
  }
 ],
 "metadata": {
  "kernelspec": {
   "display_name": "base",
   "language": "python",
   "name": "python3"
  },
  "language_info": {
   "codemirror_mode": {
    "name": "ipython",
    "version": 3
   },
   "file_extension": ".py",
   "mimetype": "text/x-python",
   "name": "python",
   "nbconvert_exporter": "python",
   "pygments_lexer": "ipython3",
   "version": "3.12.2"
  }
 },
 "nbformat": 4,
 "nbformat_minor": 5
}
