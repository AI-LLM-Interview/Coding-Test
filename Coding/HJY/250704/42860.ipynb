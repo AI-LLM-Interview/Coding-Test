{
 "cells": [
  {
   "cell_type": "markdown",
   "id": "72720f8c",
   "metadata": {},
   "source": [
    "문제 설명\n",
    "https://school.programmers.co.kr/learn/courses/30/lessons/42860\n",
    "\n",
    "조이스틱으로 알파벳 이름을 완성하세요. 맨 처음엔 A로만 이루어져 있습니다.\n",
    "\n",
    "ex) 완성해야 하는 이름이 세 글자면 AAA, 네 글자면 AAAA\n",
    "\n",
    "조이스틱을 각 방향으로 움직이면 아래와 같습니다.\n",
    "\n",
    "▲ - 다음 알파벳\n",
    "\n",
    "▼ - 이전 알파벳 (A에서 아래쪽으로 이동하면 Z로)\n",
    "\n",
    "◀ - 커서를 왼쪽으로 이동 (첫 번째 위치에서 왼쪽으로 이동하면 마지막 문자에 커서)\n",
    "\n",
    "▶ - 커서를 오른쪽으로 이동 (마지막 위치에서 오른쪽으로 이동하면 첫 번째 문자에 커서)\n",
    "\n",
    "예를 들어 아래의 방법으로 \"JAZ\"를 만들 수 있습니다.\n",
    "\n",
    "- 첫 번째 위치에서 조이스틱을 위로 9번 조작하여 J를 완성합니다.\n",
    "- 조이스틱을 왼쪽으로 1번 조작하여 커서를 마지막 문자 위치로 이동시킵니다.\n",
    "- 마지막 위치에서 조이스틱을 아래로 1번 조작하여 Z를 완성합니다.\n",
    "따라서 11번 이동시켜 \"JAZ\"를 만들 수 있고, 이때가 최소 이동입니다.\n",
    "\n",
    "만들고자 하는 이름 name이 매개변수로 주어질 때, 이름에 대해 조이스틱 조작 횟수의 최솟값을 return 하도록 solution 함수를 만드세요.\n",
    "\n",
    "제한 사항\n",
    "\n",
    "name은 알파벳 대문자로만 이루어져 있습니다.\n",
    "\n",
    "name의 길이는 1 이상 20 이하입니다.\n",
    "\n",
    "입출력 예\n",
    "\"JEROEN\" => 56\n",
    "\"JAN\" => 23"
   ]
  },
  {
   "cell_type": "code",
   "execution_count": null,
   "id": "e77eeb45",
   "metadata": {},
   "outputs": [],
   "source": [
    "def solution(name):\n",
    "    answer = 0\n",
    "    mv = len(name) - 1\n",
    "    for i, c in enumerate(name):\n",
    "        answer += min(ord(c) - ord(\"A\"), ord(\"Z\") + 1 - ord(c))\n",
    "        ii = i + 1\n",
    "        while ii < len(name) and name[ii] == \"A\" :\n",
    "            ii += 1\n",
    "        print(mv, i, len(name)-ii, i*2 + len(name) - ii)\n",
    "        mv = min(mv, i*2 + len(name) - ii, (len(name) - ii)*2 + i )\n",
    "    return answer + mv"
   ]
  }
 ],
 "metadata": {
  "language_info": {
   "name": "python"
  }
 },
 "nbformat": 4,
 "nbformat_minor": 5
}
