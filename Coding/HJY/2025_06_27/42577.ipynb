{
 "cells": [
  {
   "cell_type": "markdown",
   "id": "36ff2d6f",
   "metadata": {},
   "source": [
    "# 문제 설명\n",
    "https://school.programmers.co.kr/learn/courses/30/lessons/42577\n",
    "\n",
    "전화번호부에 적힌 전화번호 중, 한 번호가 다른 번호의 접두어인 경우가 있는지 확인하려 합니다.\n",
    "전화번호가 다음과 같을 경우, 구조대 전화번호는 영석이의 전화번호의 접두사입니다.\n",
    "\n",
    "구조대 : 119\n",
    "박준영 : 97 674 223\n",
    "지영석 : 11 9552 4421\n",
    "전화번호부에 적힌 전화번호를 담은 배열 phone_book 이 solution 함수의 매개변수로 주어질 때, 어떤 번호가 다른 번호의 접두어인 경우가 있으면 false를 그렇지 않으면 true를 return 하도록 solution 함수를 작성해주세요."
   ]
  },
  {
   "cell_type": "code",
   "execution_count": 1,
   "id": "c2d564d1",
   "metadata": {},
   "outputs": [],
   "source": [
    "def solution(phone_book):\n",
    "    phone_book.sort()\n",
    "    for i in range(len(phone_book)-1):\n",
    "        if phone_book[i+1].startswith(phone_book[i]):\n",
    "            return False\n",
    "    return True"
   ]
  }
 ],
 "metadata": {
  "kernelspec": {
   "display_name": "base",
   "language": "python",
   "name": "python3"
  },
  "language_info": {
   "codemirror_mode": {
    "name": "ipython",
    "version": 3
   },
   "file_extension": ".py",
   "mimetype": "text/x-python",
   "name": "python",
   "nbconvert_exporter": "python",
   "pygments_lexer": "ipython3",
   "version": "3.12.2"
  }
 },
 "nbformat": 4,
 "nbformat_minor": 5
}
