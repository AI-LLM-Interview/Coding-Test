{
 "cells": [
  {
   "cell_type": "markdown",
   "id": "b5cc6493",
   "metadata": {},
   "source": [
    "# 문제 설명\n",
    "https://school.programmers.co.kr/learn/courses/30/lessons/42579\n",
    "\n",
    "스트리밍 사이트에서 장르 별로 가장 많이 재생된 노래를 두 개씩 모아 베스트 앨범을 출시하려 합니다. \n",
    "\n",
    "노래는 고유 번호로 구분하며, 노래를 수록하는 기준은 다음과 같습니다.\n",
    "\n",
    "속한 노래가 많이 재생된 장르를 먼저 수록합니다.\n",
    "장르 내에서 많이 재생된 노래를 먼저 수록합니다.\n",
    "장르 내에서 재생 횟수가 같은 노래 중에서는 고유 번호가 낮은 노래를 먼저 수록합니다.\n",
    "노래의 장르를 나타내는 문자열 배열 genres와 노래별 재생 횟수를 나타내는 정수 배열 plays가 주어질 때, 베스트 앨범에 들어갈 노래의 고유 번호를 순서대로 return 하도록 solution 함수를 완성하세요."
   ]
  },
  {
   "cell_type": "code",
   "execution_count": 1,
   "id": "397580cd",
   "metadata": {},
   "outputs": [
    {
     "name": "stdout",
     "output_type": "stream",
     "text": [
      "[('classic', 500), ('pop', 600), ('classic', 150), ('classic', 800), ('pop', 2500)]\n",
      "{'pop': [2500, 600], 'classic': [800, 500]}\n"
     ]
    },
    {
     "data": {
      "text/plain": [
       "[4, 1, 3, 0]"
      ]
     },
     "execution_count": 1,
     "metadata": {},
     "output_type": "execute_result"
    }
   ],
   "source": [
    "def solution(genres, plays):\n",
    "    answer = []\n",
    "    musics = list(zip(genres, plays))\n",
    "    targets = sorted(musics, key=lambda x: x[1], reverse=True)\n",
    "    dic = {}\n",
    "    dic2 = {}\n",
    "    for g, p in targets:\n",
    "        if g not in dic:\n",
    "            dic[g] = [p]\n",
    "            dic2[g] = p\n",
    "        elif len(dic[g]) < 2:\n",
    "            dic[g].append(p)\n",
    "            dic2[g] = sum(dic[g])\n",
    "    li = []\n",
    "    print(musics)\n",
    "    print(dic)\n",
    "    for a,_ in sorted(dic2.items(), key=lambda x: x[1], reverse=True):\n",
    "        for p in dic[a]:\n",
    "            i = musics.index((a,p))\n",
    "            musics[i] = False\n",
    "            answer.append(i)\n",
    "    return answer\n",
    "\n",
    "solution(\t[\"classic\", \"pop\", \"classic\", \"classic\", \"pop\"], [500, 600, 150, 800, 2500])\n",
    "# expect [4, 1, 3, 0]"
   ]
  },
  {
   "cell_type": "code",
   "execution_count": null,
   "id": "6f2eefca",
   "metadata": {},
   "outputs": [],
   "source": [
    "def solution(genres, plays):\n",
    "    answer = []\n",
    "    musics = list(zip(genres, plays))\n",
    "    dic = {}\n",
    "    dic2 = {}\n",
    "    for a, b in musics:\n",
    "        if a not in dic2:\n",
    "            dic2[a] = b\n",
    "        else:\n",
    "            dic2[a] += b\n",
    "    for g, p in sorted(musics, key=lambda x: x[1], reverse=True):\n",
    "        if g not in dic:\n",
    "            dic[g] = [p]\n",
    "        elif len(dic[g]) < 2:\n",
    "            dic[g].append(p)\n",
    "    for a,_ in sorted(dic2.items(), key=lambda x: x[1], reverse=True):\n",
    "        for p in dic[a]:\n",
    "            i = musics.index((a,p))\n",
    "            musics[i] = False\n",
    "            answer.append(i)\n",
    "    return answer"
   ]
  }
 ],
 "metadata": {
  "kernelspec": {
   "display_name": "base",
   "language": "python",
   "name": "python3"
  },
  "language_info": {
   "codemirror_mode": {
    "name": "ipython",
    "version": 3
   },
   "file_extension": ".py",
   "mimetype": "text/x-python",
   "name": "python",
   "nbconvert_exporter": "python",
   "pygments_lexer": "ipython3",
   "version": "3.12.2"
  }
 },
 "nbformat": 4,
 "nbformat_minor": 5
}
