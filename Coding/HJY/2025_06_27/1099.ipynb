{
 "cells": [
  {
   "cell_type": "code",
   "execution_count": 39,
   "id": "7ccb455c",
   "metadata": {},
   "outputs": [],
   "source": [
    "_input = \"\"\"ogodtsneeencs\n",
    "6\n",
    "go\n",
    "good\n",
    "do\n",
    "sentences\n",
    "tense\n",
    "scen\"\"\""
   ]
  },
  {
   "cell_type": "code",
   "execution_count": 40,
   "id": "2f8d40a8",
   "metadata": {},
   "outputs": [],
   "source": [
    "inputs = _input.split(\"\\n\")\n",
    "_target = inputs[0].strip()\n",
    "words = []\n",
    "for i in range(int(inputs[1].strip())):\n",
    "    words.append(inputs[i + 2].strip())"
   ]
  },
  {
   "cell_type": "code",
   "execution_count": 41,
   "id": "a26c0623",
   "metadata": {},
   "outputs": [
    {
     "data": {
      "text/plain": [
       "('ogodtsneeencs', ['go', 'good', 'do', 'sentences', 'tense', 'scen'])"
      ]
     },
     "execution_count": 41,
     "metadata": {},
     "output_type": "execute_result"
    }
   ],
   "source": [
    "_target, words"
   ]
  },
  {
   "cell_type": "code",
   "execution_count": 36,
   "id": "c236e7d6",
   "metadata": {},
   "outputs": [
    {
     "name": "stdout",
     "output_type": "stream",
     "text": [
      "good ogodtsneeencs\n",
      "tense tsneeencs\n",
      "scen encs\n",
      "['good', 'tense', 'scen']\n"
     ]
    }
   ],
   "source": [
    "target = _target\n",
    "sentences = []\n",
    "while len(target) > 0:\n",
    "    _min_word = \"\"\n",
    "    _min = 9999999\n",
    "    for word in words:\n",
    "        if len(target) <= 0:\n",
    "            break\n",
    "        flag = False\n",
    "        if len(word) > len(target):\n",
    "            continue\n",
    "        t = target[:len(word)]\n",
    "        arr = list(word)\n",
    "        for i in range(len(t)):\n",
    "            if t[i] in arr:\n",
    "                arr.remove(t[i])\n",
    "                flag = True\n",
    "            else:\n",
    "                flag = False\n",
    "                break\n",
    "        if flag:\n",
    "            cost = 0\n",
    "            for i in range(len(t)):\n",
    "                if t[i] != word[i]:\n",
    "                    cost += 1\n",
    "            if _min > cost:\n",
    "                _min = cost\n",
    "                _min_word = word\n",
    "            elif _min == cost and len(_min_word) < len(word):\n",
    "                _min = cost\n",
    "                _min_word = word\n",
    "    print(_min_word, target)\n",
    "    sentences.append(_min_word)\n",
    "    target = target[len(_min_word):]\n",
    "print(sentences)"
   ]
  },
  {
   "cell_type": "code",
   "execution_count": null,
   "id": "6bd54e8a",
   "metadata": {},
   "outputs": [],
   "source": [
    "_target = input().strip()\n",
    "words = []\n",
    "for i in range(int(input().strip())):\n",
    "    words.append(input().strip())"
   ]
  },
  {
   "cell_type": "code",
   "execution_count": null,
   "id": "4b864846",
   "metadata": {},
   "outputs": [
    {
     "name": "stdout",
     "output_type": "stream",
     "text": [
      "Candidate: ['go', 'do', 'sentences'], Cost: 10\n",
      "Candidate: ['go', 'do', 'tense', 'scen'], Cost: 10\n",
      "Candidate: ['good', 'sentences'], Cost: 8\n",
      "Candidate: ['good', 'tense', 'scen'], Cost: 8\n",
      "\n",
      "✅ 최소 cost 결과:\n",
      "Best sequence: ['good', 'sentences']\n",
      "Min cost: 8\n"
     ]
    }
   ],
   "source": [
    "target = \"ogodtsneeencs\"\n",
    "words = [\"go\", \"good\", \"do\", \"sentences\", \"tense\", \"scen\"]\n",
    "\n",
    "def dfs(target, words, path, results):\n",
    "    if not target:\n",
    "        results.append(path[:])\n",
    "        return\n",
    "    for word in words:\n",
    "        if len(word) > len(target):\n",
    "            continue\n",
    "        if sorted(word) == sorted(target[:len(word)]):  # 철자 조합이 같아야 함\n",
    "            dfs(target[len(word):], words, path + [word], results)\n",
    "\n",
    "results = []\n",
    "dfs(target, words, [], results)\n",
    "\n",
    "# 결과 출력\n",
    "min_cost = float('inf')\n",
    "best_seq = None\n",
    "for sequence in results:\n",
    "    i = 0\n",
    "    total_cost = 0\n",
    "    for word in sequence:\n",
    "        segment = target[i:i+len(word)]\n",
    "        cost = sum(1 for a, b in zip(word, segment) if a != b)\n",
    "        total_cost += cost\n",
    "        i += len(word)\n",
    "    print(f\"Candidate: {sequence}, Cost: {total_cost}\")\n",
    "    if total_cost < min_cost:\n",
    "        min_cost = total_cost\n",
    "        best_seq = sequence\n",
    "\n",
    "print(\"\\n✅ 최소 cost 결과:\")\n",
    "print(\"Best sequence:\", best_seq)\n",
    "print(\"Min cost:\", min_cost)\n"
   ]
  },
  {
   "cell_type": "code",
   "execution_count": 44,
   "id": "24cfed9a",
   "metadata": {},
   "outputs": [
    {
     "name": "stdout",
     "output_type": "stream",
     "text": [
      "최소 cost: 8\n",
      "분해 결과: ['good', 'sentences']\n"
     ]
    }
   ],
   "source": [
    "target = _target\n",
    "\n",
    "n = len(target)\n",
    "dp = [None] * (n + 1)  # dp[i] = (최소 cost, 단어 리스트)\n",
    "dp[0] = (0, [])  # 시작점: cost 0, 빈 경로\n",
    "\n",
    "for i in range(n):\n",
    "    if dp[i] is None:\n",
    "        continue\n",
    "    for word in words:\n",
    "        end = i + len(word)\n",
    "        if end > n:\n",
    "            continue\n",
    "        slice = target[i:end]\n",
    "        # 문자 조합 일치 확인 (순서 상관없이)\n",
    "        if sorted(word) != sorted(slice):\n",
    "            continue\n",
    "        # cost 계산 (문자 위치가 다르면 1씩 추가)\n",
    "        cost = sum(1 for a, b in zip(word, slice) if a != b)\n",
    "        total_cost = dp[i][0] + cost\n",
    "        if dp[end] is None or total_cost < dp[end][0]:\n",
    "            dp[end] = (total_cost, dp[i][1] + [word])\n",
    "\n",
    "# 결과 출력\n",
    "if dp[n]:\n",
    "    print(\"최소 cost:\", dp[n][0])\n",
    "    print(\"분해 결과:\", dp[n][1])\n",
    "else:\n",
    "    print(\"분해 불가\")\n"
   ]
  }
 ],
 "metadata": {
  "kernelspec": {
   "display_name": "base",
   "language": "python",
   "name": "python3"
  },
  "language_info": {
   "codemirror_mode": {
    "name": "ipython",
    "version": 3
   },
   "file_extension": ".py",
   "mimetype": "text/x-python",
   "name": "python",
   "nbconvert_exporter": "python",
   "pygments_lexer": "ipython3",
   "version": "3.12.2"
  }
 },
 "nbformat": 4,
 "nbformat_minor": 5
}
