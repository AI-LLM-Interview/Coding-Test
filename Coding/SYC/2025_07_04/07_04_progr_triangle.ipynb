{
 "cells": [
  {
   "cell_type": "markdown",
   "id": "f7983768",
   "metadata": {},
   "source": [
    "삼각형의 꼭대기에서 바닥까지 이어지는 경로 중, 거쳐간 숫자의 합이 가장 큰 경우를 찾아보려고 합니다. 아래 칸으로 이동할 때는 대각선 방향으로 한 칸 오른쪽 또는 왼쪽으로만 이동 가능합니다. 예를 들어 3에서는 그 아래칸의 8 또는 1로만 이동이 가능합니다.\n",
    "\n",
    "삼각형의 정보가 담긴 배열 triangle이 매개변수로 주어질 때, 거쳐간 숫자의 최댓값을 return 하도록 solution 함수를 완성하세요.\n",
    "\n",
    "제한사항\n",
    "삼각형의 높이는 1 이상 500 이하입니다.\n",
    "삼각형을 이루고 있는 숫자는 0 이상 9,999 이하의 정수입니다.\n",
    "\n",
    "입출력 예\n",
    "triangle\tresult\n",
    "[[7], [3, 8], [8, 1, 0], [2, 7, 4, 4], [4, 5, 2, 6, 5]]\t30"
   ]
  },
  {
   "cell_type": "code",
   "execution_count": null,
   "id": "60a4475c",
   "metadata": {},
   "outputs": [],
   "source": [
    "def solution(triangle):\n",
    "    n = len(triangle)\n",
    "    \n",
    "    \n",
    "    dp = triangle[-1][:]\n",
    "\n",
    "    for i in range(n - 2, -1, -1):\n",
    "        \n",
    "        for j in range(len(triangle[i])):\n",
    "            dp[j] = triangle[i][j] + max(dp[j], dp[j + 1])\n",
    "    \n",
    "    return dp[0]"
   ]
  }
 ],
 "metadata": {
  "kernelspec": {
   "display_name": "senpick_env",
   "language": "python",
   "name": "python3"
  },
  "language_info": {
   "name": "python",
   "version": "3.12.9"
  }
 },
 "nbformat": 4,
 "nbformat_minor": 5
}
