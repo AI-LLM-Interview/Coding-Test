{
 "cells": [
  {
   "cell_type": "markdown",
   "id": "0b21174d",
   "metadata": {},
   "source": [
    "## 알 수 없는 문장"
   ]
  },
  {
   "cell_type": "code",
   "execution_count": null,
   "id": "336b7cec",
   "metadata": {
    "vscode": {
     "languageId": "plaintext"
    }
   },
   "outputs": [],
   "source": [
    "def calc_cost(word, segment):\n",
    "    if sorted(word) != sorted(segment):\n",
    "        return float('inf')  \n",
    "    return sum(w != s for w, s in zip(word, segment))\n",
    "\n",
    "def solution(sentence, words):\n",
    "    n = len(sentence)\n",
    "    dp = [float('inf')] * (n + 1)\n",
    "    dp[0] = 0  \n",
    "\n",
    "    for i in range(1, n + 1):\n",
    "        for word in words:\n",
    "            l = len(word)\n",
    "            if i >= l:\n",
    "                segment = sentence[i - l:i]\n",
    "                cost = calc_cost(word, segment)\n",
    "                if cost != float('inf'):\n",
    "                    dp[i] = min(dp[i], dp[i - l] + cost)\n",
    "\n",
    "    return dp[n] if dp[n] != float('inf') else -1\n",
    "\n",
    "sentence = input().strip()\n",
    "N = int(input())\n",
    "words = [input().strip() for _ in range(N)]\n",
    "\n",
    "print(solution(sentence, words))"
   ]
  }
 ],
 "metadata": {
  "language_info": {
   "name": "python"
  }
 },
 "nbformat": 4,
 "nbformat_minor": 5
}
