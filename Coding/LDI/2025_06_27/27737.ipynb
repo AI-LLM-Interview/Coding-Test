{
 "cells": [
  {
   "cell_type": "markdown",
   "id": "d2097ce7",
   "metadata": {},
   "source": [
    "## 버섯 농장 - 그래프 탐색"
   ]
  },
  {
   "cell_type": "code",
   "execution_count": null,
   "id": "cdb3075d",
   "metadata": {},
   "outputs": [],
   "source": [
    "from collections import deque\n",
    "\n",
    "n, m, k = map(int, input().split())\n",
    "\n",
    "lst = []\n",
    "for _ in range(n):\n",
    "    l = list(map(int, input().split()))\n",
    "    lst.append(l)\n",
    "\n",
    "def bfs(start_x, start_y, lst, visited, n):\n",
    "    queue = deque()\n",
    "    queue.append((start_x, start_y))\n",
    "    visited[start_x][start_y] = True\n",
    "    count = 1 \n",
    "\n",
    "    dx = [-1, 1, 0, 0]\n",
    "    dy = [0, 0, -1, 1]\n",
    "\n",
    "    while queue:\n",
    "        x, y = queue.popleft()\n",
    "\n",
    "        for i in range(4):\n",
    "            nx = x + dx[i]\n",
    "            ny = y + dy[i]\n",
    "\n",
    "            if 0 <= nx < n and 0 <= ny < n:\n",
    "                if lst[nx][ny] == 1 and not visited[nx][ny]:\n",
    "                    visited[nx][ny] = True\n",
    "                    queue.append((nx, ny))\n",
    "                    count += 1\n",
    "\n",
    "    return count\n",
    "\n",
    "\n",
    "visited = [[False] * n for _ in range(n)]\n",
    "areas = []\n",
    "\n",
    "for i in range(n):\n",
    "    for j in range(n):\n",
    "        if lst[i][j] == 1 and not visited[i][j]:\n",
    "            size = bfs(i, j, lst, visited, n)\n",
    "            areas.append(size)\n",
    "\n",
    "result = 0\n",
    "for area in areas:\n",
    "    if area % k == 0:\n",
    "        result += area // k\n",
    "    else:\n",
    "        result += (area // k + 1) \n",
    "\n",
    "if result > 0 and result <= m :\n",
    "    print(\"POSSIBLE\")\n",
    "    print(m - result)\n",
    "else:\n",
    "    print(\"IMPOSSIBLE\")"
   ]
  }
 ],
 "metadata": {
  "kernelspec": {
   "display_name": "new",
   "language": "python",
   "name": "python3"
  },
  "language_info": {
   "name": "python",
   "version": "3.12.8"
  }
 },
 "nbformat": 4,
 "nbformat_minor": 5
}
