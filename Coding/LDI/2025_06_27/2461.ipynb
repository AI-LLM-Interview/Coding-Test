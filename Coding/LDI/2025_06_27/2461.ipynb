{
 "cells": [
  {
   "cell_type": "markdown",
   "id": "16597e3f",
   "metadata": {},
   "source": [
    "## 대표 선수"
   ]
  },
  {
   "cell_type": "code",
   "execution_count": null,
   "id": "276301e7",
   "metadata": {},
   "outputs": [],
   "source": [
    "n, m = map(int, input().split())\n",
    "\n",
    "student = []\n",
    "for i in range(n):\n",
    "    score = list(map(int, input().split()))\n",
    "    for s in score:\n",
    "        student.append((s, i))\n",
    "    \n",
    "student.sort()\n",
    "\n",
    "\n",
    "count = {} \n",
    "num = 0\n",
    "min_diff = float('inf')\n",
    "start = 0\n",
    "\n",
    "\n",
    "for end in range(len(student)):\n",
    "    ability, cls = student[end]\n",
    "\n",
    "    if cls not in count:\n",
    "        count[cls] = 0\n",
    "    if count[cls] == 0:\n",
    "        num += 1\n",
    "    count[cls] += 1\n",
    "\n",
    "    while num == n:\n",
    "        diff = student[end][0] - student[start][0]\n",
    "        min_diff = min(min_diff, diff)\n",
    "\n",
    "        s_cls = student[start][1]\n",
    "        count[s_cls] -= 1\n",
    "        if count[s_cls] == 0:\n",
    "            num -= 1\n",
    "        start += 1\n",
    "\n",
    "print(min_diff)"
   ]
  }
 ],
 "metadata": {
  "language_info": {
   "name": "python"
  }
 },
 "nbformat": 4,
 "nbformat_minor": 5
}
