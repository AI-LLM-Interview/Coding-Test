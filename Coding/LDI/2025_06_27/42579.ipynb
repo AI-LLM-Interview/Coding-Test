{
 "cells": [
  {
   "cell_type": "markdown",
   "id": "3a9bb761",
   "metadata": {},
   "source": [
    "## 베스트 앨범 - 해시"
   ]
  },
  {
   "cell_type": "code",
   "execution_count": null,
   "id": "30d71bd0",
   "metadata": {
    "vscode": {
     "languageId": "plaintext"
    }
   },
   "outputs": [],
   "source": [
    "from collections import defaultdict\n",
    "\n",
    "def solution(genres, plays):\n",
    "    songs = defaultdict(list)\n",
    "    genre_total = defaultdict(int)\n",
    "    for i in range(len(genres)):\n",
    "        songs[genres[i]].append((plays[i], i))\n",
    "        genre_total[genres[i]] += plays[i]\n",
    "    \n",
    "    sorted_genres = sorted(genre_total, key=lambda x: genre_total[x], reverse=True)\n",
    "    \n",
    "    \n",
    "    answer = []\n",
    "    for genre in sorted_genres:\n",
    "        song = songs[genre]\n",
    "        sorted_songs = sorted(song, key=lambda x: (-x[0], x[1]))\n",
    "        \n",
    "        count = 0\n",
    "        for play, id in sorted_songs:\n",
    "            answer.append(id)\n",
    "            count += 1\n",
    "            if count == 2:\n",
    "                break\n",
    "    \n",
    "    return answer"
   ]
  }
 ],
 "metadata": {
  "language_info": {
   "name": "python"
  }
 },
 "nbformat": 4,
 "nbformat_minor": 5
}
