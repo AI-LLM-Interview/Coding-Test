{
 "cells": [
  {
   "cell_type": "markdown",
   "id": "9085e740",
   "metadata": {},
   "source": [
    "## 구명보트"
   ]
  },
  {
   "cell_type": "code",
   "execution_count": null,
   "id": "611e19d8",
   "metadata": {
    "vscode": {
     "languageId": "plaintext"
    }
   },
   "outputs": [],
   "source": [
    "def solution(people, limit):\n",
    "    people.sort()\n",
    "    answer = 0\n",
    "    start = 0\n",
    "    end = len(people) - 1\n",
    "    while start <= end:\n",
    "        if people[start] + people[end] <= limit:\n",
    "            start += 1\n",
    "        end -= 1\n",
    "        answer += 1\n",
    "    \n",
    "    return answer"
   ]
  }
 ],
 "metadata": {
  "language_info": {
   "name": "python"
  }
 },
 "nbformat": 4,
 "nbformat_minor": 5
}
