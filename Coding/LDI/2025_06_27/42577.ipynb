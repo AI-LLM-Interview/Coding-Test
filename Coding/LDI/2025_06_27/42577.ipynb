{
 "cells": [
  {
   "cell_type": "markdown",
   "id": "d71987ae",
   "metadata": {},
   "source": [
    "## 전화번호 목록"
   ]
  },
  {
   "cell_type": "code",
   "execution_count": null,
   "id": "686abd10",
   "metadata": {
    "vscode": {
     "languageId": "plaintext"
    }
   },
   "outputs": [],
   "source": [
    "def solution(phone_book):\n",
    "    phone_book.sort()\n",
    "    \n",
    "    for i in range(len(phone_book) - 1):\n",
    "        if phone_book[i+1].startswith(phone_book[i]):\n",
    "            return False\n",
    "\n",
    "    return True"
   ]
  }
 ],
 "metadata": {
  "language_info": {
   "name": "python"
  }
 },
 "nbformat": 4,
 "nbformat_minor": 5
}
