{
 "cells": [
  {
   "cell_type": "markdown",
   "id": "5fed5cce",
   "metadata": {},
   "source": [
    "## 의상"
   ]
  },
  {
   "cell_type": "code",
   "execution_count": null,
   "id": "dfff6ba4",
   "metadata": {},
   "outputs": [],
   "source": [
    "from collections import defaultdict\n",
    "\n",
    "def solution(clothes):\n",
    "    counter = defaultdict(int)\n",
    "    \n",
    "    for name, kind in clothes:\n",
    "        counter[kind] += 1\n",
    "    \n",
    "    answer = 1\n",
    "    for kind in counter:\n",
    "        answer *= (counter[kind] + 1) \n",
    "    \n",
    "    return answer - 1  "
   ]
  }
 ],
 "metadata": {
  "language_info": {
   "name": "python"
  }
 },
 "nbformat": 4,
 "nbformat_minor": 5
}
