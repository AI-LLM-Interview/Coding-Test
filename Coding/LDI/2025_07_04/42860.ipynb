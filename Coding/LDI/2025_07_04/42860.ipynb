{
 "cells": [
  {
   "cell_type": "markdown",
   "id": "99dde667",
   "metadata": {},
   "source": [
    "# 조이스틱"
   ]
  },
  {
   "cell_type": "markdown",
   "id": "403c34b7",
   "metadata": {},
   "source": [
    "https://school.programmers.co.kr/learn/courses/30/lessons/42860"
   ]
  },
  {
   "cell_type": "code",
   "execution_count": null,
   "id": "d2d1e089",
   "metadata": {},
   "outputs": [],
   "source": [
    "def solution(name):\n",
    "    answer = 0\n",
    "    n = len(name)\n",
    "\n",
    "    # 알파벳 변경하는 횟수만 먼저 합산\n",
    "    for ch in name:\n",
    "        answer += min(ord(ch) - ord('A'), ord('Z') - ord(ch) + 1)\n",
    "\n",
    "    # 커서 이동하는 횟수 계산\n",
    "    move = n - 1  # 기본 오른쪽으로만 이동하는 경우\n",
    "\n",
    "    for i in range(n):\n",
    "        next_idx = i + 1\n",
    "        # 연속된 A 구간 찾기\n",
    "        while next_idx < n and name[next_idx] == 'A':\n",
    "            next_idx += 1\n",
    "        # 좌측으로 갔다가 A 뒤쪽으로 점프하는 경로 고려\n",
    "        move = min(move, i + i + (n - next_idx)) \n",
    "        move = min(move, i + 2 * (n - next_idx))  \n",
    "\n",
    "    return answer + move\n"
   ]
  }
 ],
 "metadata": {
  "language_info": {
   "name": "python"
  }
 },
 "nbformat": 4,
 "nbformat_minor": 5
}
