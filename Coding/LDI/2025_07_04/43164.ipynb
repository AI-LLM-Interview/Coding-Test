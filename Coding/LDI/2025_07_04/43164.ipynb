{
 "cells": [
  {
   "cell_type": "markdown",
   "id": "29dfc540",
   "metadata": {},
   "source": [
    "# 여행경로"
   ]
  },
  {
   "cell_type": "markdown",
   "id": "f5b195fd",
   "metadata": {},
   "source": [
    "https://school.programmers.co.kr/learn/courses/30/lessons/43164"
   ]
  },
  {
   "cell_type": "code",
   "execution_count": null,
   "id": "61537fcf",
   "metadata": {},
   "outputs": [],
   "source": [
    "def solution(tickets):\n",
    "    tickets.sort()  # 사전순 경로 우선\n",
    "    used = [False] * len(tickets)\n",
    "    path = []\n",
    "\n",
    "    def dfs(cur, depth):\n",
    "        path.append(cur)\n",
    "        if depth == len(tickets):\n",
    "            return True  # 모든 티켓 사용 완료\n",
    "\n",
    "        for i in range(len(tickets)):\n",
    "            if not used[i] and tickets[i][0] == cur:\n",
    "                used[i] = True\n",
    "                if dfs(tickets[i][1], depth + 1):\n",
    "                    return True\n",
    "                used[i] = False\n",
    "        path.pop()\n",
    "        return False\n",
    "\n",
    "    dfs(\"ICN\", 0)\n",
    "    return path\n"
   ]
  }
 ],
 "metadata": {
  "kernelspec": {
   "display_name": "new",
   "language": "python",
   "name": "python3"
  },
  "language_info": {
   "name": "python",
   "version": "3.12.8"
  }
 },
 "nbformat": 4,
 "nbformat_minor": 5
}
