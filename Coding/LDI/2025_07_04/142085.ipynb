{
 "cells": [
  {
   "cell_type": "markdown",
   "id": "77b6c587",
   "metadata": {},
   "source": [
    "# 디펜스 게임"
   ]
  },
  {
   "cell_type": "markdown",
   "id": "b2e387a8",
   "metadata": {},
   "source": [
    "https://school.programmers.co.kr/learn/courses/30/lessons/142085"
   ]
  },
  {
   "cell_type": "code",
   "execution_count": null,
   "id": "b626688d",
   "metadata": {},
   "outputs": [],
   "source": [
    "def solution(n, k, enemy):\n",
    "    count= []  \n",
    "\n",
    "    for i in range(len(enemy)):\n",
    "        count.append(enemy[i])  \n",
    "        n -= enemy[i]          \n",
    "\n",
    "        if n < 0:\n",
    "            if k == 0:\n",
    "                return i\n",
    "            # 최대값 찾아서 무적권으로 대체\n",
    "            max_val = max(count)        \n",
    "            count.remove(max_val)       \n",
    "            n += max_val\n",
    "            k -= 1\n",
    "\n",
    "    return len(enemy)\n"
   ]
  },
  {
   "cell_type": "markdown",
   "id": "d9ee6cf5",
   "metadata": {},
   "source": [
    "* 위 처럼 리스트에서 매번 max값을 찾으려고 코드를 짜면 시간초과가 발생\n",
    "\n",
    "> 따라서 `heapq` (항상 작은 값부터 꺼내주는 자료구조) 라이브러리를 사용해야함"
   ]
  },
  {
   "cell_type": "code",
   "execution_count": null,
   "id": "d14c14cf",
   "metadata": {},
   "outputs": [],
   "source": [
    "import heapq\n",
    "\n",
    "def solution(n, k, enemy):\n",
    "    max_heap = []  # 최대 힙 (음수로 넣음)\n",
    "    \n",
    "    for i in range(len(enemy)):\n",
    "        heapq.heappush(max_heap, -enemy[i])  # 최대 힙에 넣기\n",
    "        n -= enemy[i]  # 병사로 막음\n",
    "\n",
    "        if n < 0:  # 병사 부족\n",
    "            if k == 0:\n",
    "                return i  # 무적권도 없으면 이 라운드에서 끝\n",
    "            largest_enemy = -heapq.heappop(max_heap)  # 가장 많은 적을 무적권으로 바꾸자\n",
    "            n += largest_enemy  # 병사 복구\n",
    "            k -= 1  # 무적권 사용\n",
    "\n",
    "    return len(enemy)  # 모두 막은 경우\n"
   ]
  }
 ],
 "metadata": {
  "language_info": {
   "name": "python"
  }
 },
 "nbformat": 4,
 "nbformat_minor": 5
}
