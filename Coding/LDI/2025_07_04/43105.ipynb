{
 "cells": [
  {
   "cell_type": "markdown",
   "id": "d4019d5b",
   "metadata": {},
   "source": [
    "# 정수 삼각형"
   ]
  },
  {
   "cell_type": "markdown",
   "id": "483c21f9",
   "metadata": {},
   "source": [
    "https://school.programmers.co.kr/learn/courses/30/lessons/43105"
   ]
  },
  {
   "cell_type": "code",
   "execution_count": null,
   "id": "764b3fcf",
   "metadata": {},
   "outputs": [],
   "source": [
    "def solution(triangle):\n",
    "    # 아래서부터 올라오면서 합산\n",
    "    for i in range(len(triangle) - 2, -1, -1): \n",
    "        for j in range(len(triangle[i])):\n",
    "            triangle[i][j] += max(triangle[i + 1][j], triangle[i + 1][j + 1])\n",
    "    \n",
    "    return triangle[0][0] "
   ]
  }
 ],
 "metadata": {
  "kernelspec": {
   "display_name": "new",
   "language": "python",
   "name": "python3"
  },
  "language_info": {
   "name": "python",
   "version": "3.12.8"
  }
 },
 "nbformat": 4,
 "nbformat_minor": 5
}
