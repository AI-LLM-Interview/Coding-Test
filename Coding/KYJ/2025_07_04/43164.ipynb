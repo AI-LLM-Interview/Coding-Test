{
 "cells": [
  {
   "cell_type": "markdown",
   "id": "6e635bd0",
   "metadata": {},
   "source": [
    "https://school.programmers.co.kr/learn/courses/30/lessons/43164\n",
    "\n",
    "여행경로\n",
    "\n",
    "문제 설명\n",
    "\n",
    "주어진 항공권을 모두 이용하여 여행경로를 짜려고 합니다. 항상 \"ICN\" 공항에서 출발합니다.\n",
    "\n",
    "항공권 정보가 담긴 2차원 배열 tickets가 매개변수로 주어질 때, 방문하는 공항 경로를 배열에 담아 return 하도록 solution 함수를 작성해주세요.\n",
    "\n",
    "제한사항\n",
    "\n",
    "모든 공항은 알파벳 대문자 3글자로 이루어집니다.\n",
    "주어진 공항 수는 3개 이상 10,000개 이하입니다.\n",
    "tickets의 각 행 [a, b]는 a 공항에서 b 공항으로 가는 항공권이 있다는 의미입니다.\n",
    "주어진 항공권은 모두 사용해야 합니다.\n",
    "만일 가능한 경로가 2개 이상일 경우 알파벳 순서가 앞서는 경로를 return 합니다.\n",
    "모든 도시를 방문할 수 없는 경우는 주어지지 않습니다.\n",
    "\n",
    "입출력 예\n",
    "\n",
    "|tickets|\treturn|\n",
    "|-|-|\n",
    "[[\"ICN\", \"JFK\"], [\"HND\", \"IAD\"], [\"JFK\", \"HND\"]]\t|[\"ICN\", \"JFK\", \"HND\", \"IAD\"]|\n",
    "[[\"ICN\", \"SFO\"], [\"ICN\", \"ATL\"], [\"SFO\", \"ATL\"], [\"ATL\", \"ICN\"], [\"ATL\",\"SFO\"]]\t|[\"ICN\", \"ATL\", \"ICN\", \"SFO\", \"ATL\", \"SFO\"]|\n",
    "\n",
    "입출력 예 설명\n",
    "\n",
    "예제 #1\n",
    "\n",
    "[\"ICN\", \"JFK\", \"HND\", \"IAD\"] 순으로 방문할 수 있습니다.\n",
    "\n",
    "예제 #2\n",
    "\n",
    "[\"ICN\", \"SFO\", \"ATL\", \"ICN\", \"ATL\", \"SFO\"] 순으로 방문할 수도 있지만 [\"ICN\", \"ATL\", \"ICN\", \"SFO\", \"ATL\", \"SFO\"] 가 알파벳 순으로 앞섭니다."
   ]
  },
  {
   "cell_type": "code",
   "execution_count": null,
   "id": "5f00f2cc",
   "metadata": {},
   "outputs": [
    {
     "name": "stdout",
     "output_type": "stream",
     "text": [
      "ICN []\n"
     ]
    }
   ],
   "source": [
    "tickets = [[\"ICN\", \"JFK\"], [\"HND\", \"IAD\"], [\"JFK\", \"HND\"]]\n",
    "\n",
    "print(aa)"
   ]
  },
  {
   "cell_type": "markdown",
   "id": "054d11e7",
   "metadata": {},
   "source": [
    "DFS"
   ]
  },
  {
   "cell_type": "code",
   "execution_count": 4,
   "id": "a528f8fa",
   "metadata": {},
   "outputs": [
    {
     "name": "stdout",
     "output_type": "stream",
     "text": [
      "[['ICN', 'ATL', 'ICN', 'SFO', 'ATL', 'SFO']]\n"
     ]
    }
   ],
   "source": [
    "tickets = [[\"ICN\", \"SFO\"], [\"ICN\", \"ATL\"], [\"SFO\", \"ATL\"], [\"ATL\", \"ICN\"], [\"ATL\",\"SFO\"]]\n",
    "\n",
    "def solution(tickets):\n",
    "    tickets.sort()  # 알파벳 순 정렬\n",
    "    visited = [False] * len(tickets)\n",
    "    answer = []\n",
    "\n",
    "    def dfs(path, depth):\n",
    "        if depth == len(tickets):\n",
    "            answer.append(path)\n",
    "            return True  # 경로를 찾으면 더 이상 탐색 안 함 (첫 번째 경로가 사전순)\n",
    "\n",
    "        for i in range(len(tickets)):\n",
    "            if not visited[i] and tickets[i][0] == path[-1]:\n",
    "                visited[i] = True\n",
    "                if dfs(path + [tickets[i][1]], depth + 1):\n",
    "                    return True\n",
    "                visited[i] = False  # 백트래킹\n",
    "\n",
    "        return False\n",
    "\n",
    "    dfs(path = [\"ICN\"], depth = 0)\n",
    "    # return answer[0]\n",
    "    return answer\n",
    "\n",
    "aa = solution(tickets)\n",
    "print(aa)"
   ]
  },
  {
   "cell_type": "code",
   "execution_count": null,
   "id": "4a2f59c7",
   "metadata": {},
   "outputs": [],
   "source": []
  }
 ],
 "metadata": {
  "kernelspec": {
   "display_name": "base",
   "language": "python",
   "name": "python3"
  },
  "language_info": {
   "codemirror_mode": {
    "name": "ipython",
    "version": 3
   },
   "file_extension": ".py",
   "mimetype": "text/x-python",
   "name": "python",
   "nbconvert_exporter": "python",
   "pygments_lexer": "ipython3",
   "version": "3.11.11"
  }
 },
 "nbformat": 4,
 "nbformat_minor": 5
}
