{
 "cells": [
  {
   "cell_type": "markdown",
   "id": "b216250b",
   "metadata": {},
   "source": [
    "https://school.programmers.co.kr/learn/courses/30/lessons/43105\n",
    "\n",
    "정수 삼각형\n",
    "\n",
    "문제 설명\n",
    "\n",
    "위와 같은 삼각형의 꼭대기에서 바닥까지 이어지는 경로 중, 거쳐간 숫자의 합이 가장 큰 경우를 찾아보려고 합니다. 아래 칸으로 이동할 때는 대각선 방향으로 한 칸 오른쪽 또는 왼쪽으로만 이동 가능합니다. 예를 들어 3에서는 그 아래칸의 8 또는 1로만 이동이 가능합니다.\n",
    "\n",
    "삼각형의 정보가 담긴 배열 triangle이 매개변수로 주어질 때, 거쳐간 숫자의 최댓값을 return 하도록 solution 함수를 완성하세요.\n",
    "\n",
    "제한사항\n",
    "\n",
    "삼각형의 높이는 1 이상 500 이하입니다.\n",
    "삼각형을 이루고 있는 숫자는 0 이상 9,999 이하의 정수입니다.\n",
    "\n",
    "입출력 예\n",
    "|triangle\t|result|\n",
    "|-|-|\n",
    "|[[7], [3, 8], [8, 1, 0], [2, 7, 4, 4], [4, 5, 2, 6, 5]]\t|30|\n"
   ]
  },
  {
   "cell_type": "code",
   "execution_count": null,
   "id": "035fae28",
   "metadata": {},
   "outputs": [],
   "source": [
    "# 효율성 실패\n",
    "def solution(triangle):\n",
    "    answer = 0\n",
    "    length = len(triangle)\n",
    "    \n",
    "    def dfs(depth, index, total): \n",
    "        nonlocal answer\n",
    "        total += triangle[depth][index]\n",
    "\n",
    "        if depth == length - 1:\n",
    "            answer = max(answer, total)\n",
    "            return\n",
    "        \n",
    "        dfs(depth + 1, index, total)\n",
    "        dfs(depth + 1, index + 1, total)\n",
    "\n",
    "    dfs(0, 0, 0)\n",
    "    return answer\n",
    "\n",
    "triangle = [[7], [3, 8], [8, 1, 0], [2, 7, 4, 4], [4, 5, 2, 6, 5]]"
   ]
  },
  {
   "cell_type": "code",
   "execution_count": 3,
   "id": "9d35c8a1",
   "metadata": {},
   "outputs": [
    {
     "name": "stdout",
     "output_type": "stream",
     "text": [
      "30\n"
     ]
    }
   ],
   "source": [
    "aa = solution(triangle)\n",
    "print(aa)"
   ]
  },
  {
   "cell_type": "markdown",
   "id": "f58672b6",
   "metadata": {},
   "source": [
    "DP"
   ]
  },
  {
   "cell_type": "code",
   "execution_count": 5,
   "id": "a9c64b80",
   "metadata": {},
   "outputs": [
    {
     "name": "stdout",
     "output_type": "stream",
     "text": [
      "[[90], [60, 51], [37, 30, 26], [12, 17, 16, 16], [4, 5, 2, 6, 5]]\n"
     ]
    }
   ],
   "source": [
    "def solution(triangle):\n",
    "    dp = triangle[:]\n",
    "    for i in range(len(dp)-2, -1, -1):\n",
    "        for j in range(len(dp[i])):\n",
    "            dp[i][j] += max(dp[i+1][j], dp[i+1][j+1])\n",
    "    # return dp[0][0]\n",
    "    return dp\n",
    "\n",
    "aa = solution(triangle)\n",
    "print(aa)"
   ]
  },
  {
   "cell_type": "code",
   "execution_count": null,
   "id": "212ac418",
   "metadata": {},
   "outputs": [],
   "source": []
  }
 ],
 "metadata": {
  "kernelspec": {
   "display_name": "base",
   "language": "python",
   "name": "python3"
  },
  "language_info": {
   "codemirror_mode": {
    "name": "ipython",
    "version": 3
   },
   "file_extension": ".py",
   "mimetype": "text/x-python",
   "name": "python",
   "nbconvert_exporter": "python",
   "pygments_lexer": "ipython3",
   "version": "3.11.11"
  }
 },
 "nbformat": 4,
 "nbformat_minor": 5
}
